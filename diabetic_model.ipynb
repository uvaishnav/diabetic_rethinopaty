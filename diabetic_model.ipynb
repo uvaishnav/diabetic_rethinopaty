{
 "cells": [
  {
   "cell_type": "code",
   "execution_count": 23,
   "metadata": {},
   "outputs": [],
   "source": [
    "import tensorflow as tf\n",
    "from tensorflow.keras.preprocessing.image import ImageDataGenerator\n",
    "from tensorflow.keras import Sequential\n",
    "from tensorflow.keras.layers import Conv2D,MaxPooling2D,Flatten,Dense\n"
   ]
  },
  {
   "cell_type": "markdown",
   "metadata": {},
   "source": [
    "Loading all Images"
   ]
  },
  {
   "cell_type": "code",
   "execution_count": 25,
   "metadata": {},
   "outputs": [
    {
     "name": "stdout",
     "output_type": "stream",
     "text": [
      "Found 1800 images belonging to 5 classes.\n"
     ]
    }
   ],
   "source": [
    "diabetic_eyes='/Users/uvaishnav/Diabetic Rethinopathy/Messidor-2+EyePac_Balanced'\n",
    "\n",
    "datagen=ImageDataGenerator(\n",
    "    rescale=1/255.0\n",
    ")\n",
    "\n",
    "image_collection=datagen.flow_from_directory(\n",
    "    diabetic_eyes,\n",
    "    target_size=(224,224),\n",
    "    batch_size=32,\n",
    "    shuffle=True\n",
    ")"
   ]
  },
  {
   "cell_type": "markdown",
   "metadata": {},
   "source": [
    "VGG 16 For Feature Extraction"
   ]
  },
  {
   "cell_type": "code",
   "execution_count": 26,
   "metadata": {},
   "outputs": [],
   "source": [
    "vgg16_model=Sequential()\n",
    "\n",
    "vgg16_model.add(Conv2D(64,(3,3),padding=\"same\",activation='relu',input_shape=(224,224,3)))\n",
    "vgg16_model.add(Conv2D(64,(3,3),padding=\"same\",activation='relu',))\n",
    "vgg16_model.add(MaxPooling2D(2,2))\n",
    "\n",
    "for i in range(2):\n",
    "    vgg16_model.add(Conv2D(128,(3,3),padding=\"same\",activation='relu',))\n",
    "vgg16_model.add(MaxPooling2D(2,2))\n",
    "\n",
    "for i in range(3):\n",
    "    vgg16_model.add(Conv2D(256,(3,3),padding=\"same\",activation='relu',))\n",
    "vgg16_model.add(MaxPooling2D(2,2))\n",
    "\n",
    "for i in range(3):\n",
    "    vgg16_model.add(Conv2D(512,(3,3),padding=\"same\",activation='relu',))\n",
    "vgg16_model.add(MaxPooling2D(2,2))\n",
    "\n",
    "for i in range(3):\n",
    "    vgg16_model.add(Conv2D(512,(3,3),padding=\"same\",activation='relu',))\n",
    "vgg16_model.add(MaxPooling2D(2,2))\n"
   ]
  },
  {
   "cell_type": "markdown",
   "metadata": {},
   "source": [
    "Extract features from the last convolutional layer\n",
    "Creating a Feature Extractor"
   ]
  },
  {
   "cell_type": "code",
   "execution_count": 27,
   "metadata": {},
   "outputs": [
    {
     "name": "stdout",
     "output_type": "stream",
     "text": [
      "Model: \"sequential_9\"\n",
      "_________________________________________________________________\n",
      " Layer (type)                Output Shape              Param #   \n",
      "=================================================================\n",
      " conv2d_33 (Conv2D)          (None, 224, 224, 64)      1792      \n",
      "                                                                 \n",
      " conv2d_34 (Conv2D)          (None, 224, 224, 64)      36928     \n",
      "                                                                 \n",
      " max_pooling2d_13 (MaxPooli  (None, 112, 112, 64)      0         \n",
      " ng2D)                                                           \n",
      "                                                                 \n",
      " conv2d_35 (Conv2D)          (None, 112, 112, 128)     73856     \n",
      "                                                                 \n",
      " conv2d_36 (Conv2D)          (None, 112, 112, 128)     147584    \n",
      "                                                                 \n",
      " max_pooling2d_14 (MaxPooli  (None, 56, 56, 128)       0         \n",
      " ng2D)                                                           \n",
      "                                                                 \n",
      " conv2d_37 (Conv2D)          (None, 56, 56, 256)       295168    \n",
      "                                                                 \n",
      " conv2d_38 (Conv2D)          (None, 56, 56, 256)       590080    \n",
      "                                                                 \n",
      " conv2d_39 (Conv2D)          (None, 56, 56, 256)       590080    \n",
      "                                                                 \n",
      " max_pooling2d_15 (MaxPooli  (None, 28, 28, 256)       0         \n",
      " ng2D)                                                           \n",
      "                                                                 \n",
      " conv2d_40 (Conv2D)          (None, 28, 28, 512)       1180160   \n",
      "                                                                 \n",
      " conv2d_41 (Conv2D)          (None, 28, 28, 512)       2359808   \n",
      "                                                                 \n",
      " conv2d_42 (Conv2D)          (None, 28, 28, 512)       2359808   \n",
      "                                                                 \n",
      " max_pooling2d_16 (MaxPooli  (None, 14, 14, 512)       0         \n",
      " ng2D)                                                           \n",
      "                                                                 \n",
      " conv2d_43 (Conv2D)          (None, 14, 14, 512)       2359808   \n",
      "                                                                 \n",
      " conv2d_44 (Conv2D)          (None, 14, 14, 512)       2359808   \n",
      "                                                                 \n",
      " conv2d_45 (Conv2D)          (None, 14, 14, 512)       2359808   \n",
      "                                                                 \n",
      "=================================================================\n",
      "Total params: 14714688 (56.13 MB)\n",
      "Trainable params: 14714688 (56.13 MB)\n",
      "Non-trainable params: 0 (0.00 Byte)\n",
      "_________________________________________________________________\n"
     ]
    }
   ],
   "source": [
    "feature_extractor=Sequential(vgg16_model.layers[:-1])\n",
    "feature_extractor.summary()"
   ]
  },
  {
   "cell_type": "markdown",
   "metadata": {},
   "source": [
    "Extracting Features"
   ]
  },
  {
   "cell_type": "code",
   "execution_count": 28,
   "metadata": {},
   "outputs": [
    {
     "name": "stdout",
     "output_type": "stream",
     "text": [
      "57/57 [==============================] - 206s 4s/step\n"
     ]
    }
   ],
   "source": [
    "features=feature_extractor.predict(image_collection)"
   ]
  },
  {
   "cell_type": "code",
   "execution_count": null,
   "metadata": {},
   "outputs": [],
   "source": []
  }
 ],
 "metadata": {
  "kernelspec": {
   "display_name": "base",
   "language": "python",
   "name": "python3"
  },
  "language_info": {
   "codemirror_mode": {
    "name": "ipython",
    "version": 3
   },
   "file_extension": ".py",
   "mimetype": "text/x-python",
   "name": "python",
   "nbconvert_exporter": "python",
   "pygments_lexer": "ipython3",
   "version": "3.11.3"
  },
  "orig_nbformat": 4
 },
 "nbformat": 4,
 "nbformat_minor": 2
}
